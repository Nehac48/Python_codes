{
  "nbformat": 4,
  "nbformat_minor": 0,
  "metadata": {
    "colab": {
      "name": "Neha_Suchit_Chaudhari.ipynb",
      "provenance": []
    },
    "kernelspec": {
      "name": "python3",
      "display_name": "Python 3"
    },
    "language_info": {
      "name": "python"
    }
  },
  "cells": [
    {
      "cell_type": "markdown",
      "source": [
        "***1)Program to find second largest number.***\n"
      ],
      "metadata": {
        "id": "D6VV-F1IyyMv"
      }
    },
    {
      "cell_type": "code",
      "execution_count": null,
      "metadata": {
        "colab": {
          "base_uri": "https://localhost:8080/"
        },
        "id": "B64vzoouZFnu",
        "outputId": "8e26f277-ec4c-4410-fdbe-ac4cad86d5af"
      },
      "outputs": [
        {
          "output_type": "stream",
          "name": "stdout",
          "text": [
            "Enter number of  elements in list:3\n",
            "Enter elements in list:4\n",
            "Enter elements in list:9\n",
            "Enter elements in list:0\n",
            "Second largest number is: 4\n"
          ]
        }
      ],
      "source": [
        "#created empty list.\n",
        "list=[]\n",
        "#asked for size.\n",
        "n=int(input(\"Enter number of  elements in list:\"))\n",
        "#asked for elements.\n",
        "for i in range(0,n):\n",
        "  value=int(input(\"Enter elements in list:\"))\n",
        "  list.append(value)\n",
        "#sorted and -2 means second largest.\n",
        "list.sort()\n",
        "print(\"Second largest number is:\",list[-2])\n",
        "\n",
        " "
      ]
    },
    {
      "cell_type": "markdown",
      "source": [
        "***2)WAP to print following patterns***.\n"
      ],
      "metadata": {
        "id": "Fk5__B9wy5E1"
      }
    },
    {
      "cell_type": "code",
      "source": [
        "rows=3\n",
        "#rows-i==spaces\n",
        "for i in range(1,rows+1):\n",
        "  print((rows-i)*\" \"+\"* \"*i)\n"
      ],
      "metadata": {
        "colab": {
          "base_uri": "https://localhost:8080/"
        },
        "id": "LX52NibzzNTx",
        "outputId": "158da9d6-b9bf-423d-bfe7-afa9dc415ed3"
      },
      "execution_count": null,
      "outputs": [
        {
          "output_type": "stream",
          "name": "stdout",
          "text": [
            "  * \n",
            " * * \n",
            "* * * \n"
          ]
        }
      ]
    },
    {
      "cell_type": "code",
      "source": [
        "rows=3\n",
        "#rows-i==spaces\n",
        "for i in range(1,rows+1):\n",
        "  \n",
        "  print((rows-i)*\" \"+(str(i)+\" \")*i)\n",
        "\n",
        "  "
      ],
      "metadata": {
        "colab": {
          "base_uri": "https://localhost:8080/"
        },
        "id": "oP6EKJRN3_al",
        "outputId": "f71af935-9e21-4026-a9c4-43674b99576a"
      },
      "execution_count": null,
      "outputs": [
        {
          "output_type": "stream",
          "name": "stdout",
          "text": [
            "  1 \n",
            " 2 2 \n",
            "3 3 3 \n"
          ]
        }
      ]
    },
    {
      "cell_type": "markdown",
      "source": [
        "***3)WAP to take number from keyboard and prints its equivalent English word.***"
      ],
      "metadata": {
        "id": "1hRG93Ml2ldP"
      }
    },
    {
      "cell_type": "code",
      "source": [
        "# The inflect package can do this.\n",
        "# $ pip install inflect,and then.\n",
        "\n",
        "import inflect\n",
        "num=int(input(\"Enter a number:\"))\n",
        "p = inflect.engine()\n",
        "to_words=p.number_to_words(num)\n",
        "print(to_words.title())"
      ],
      "metadata": {
        "colab": {
          "base_uri": "https://localhost:8080/"
        },
        "id": "7upvOMLT2mS9",
        "outputId": "f847e050-b12b-4401-c008-65afa02c6cc6"
      },
      "execution_count": null,
      "outputs": [
        {
          "output_type": "stream",
          "name": "stdout",
          "text": [
            "Enter a number:21\n",
            "Twenty-One\n"
          ]
        }
      ]
    },
    {
      "cell_type": "markdown",
      "source": [
        "***4) WAP to print prime numbers up to n.***"
      ],
      "metadata": {
        "id": "j54QPPP35PX1"
      }
    },
    {
      "cell_type": "code",
      "source": [
        "n=int(input(\"Enter n:\"))\n",
        "primes=[]\n",
        "for i in range(2,n+1):\n",
        "  for j in range(2,i):\n",
        "     if i%j==0:\n",
        "      break\n",
        "  else:\n",
        "   primes.append(i)\n",
        "print(primes)"
      ],
      "metadata": {
        "colab": {
          "base_uri": "https://localhost:8080/"
        },
        "id": "np8-0yux484_",
        "outputId": "ab19fff6-00c9-4fc6-b59c-f9fb7be50fdd"
      },
      "execution_count": null,
      "outputs": [
        {
          "output_type": "stream",
          "name": "stdout",
          "text": [
            "Enter n:9\n",
            "[2, 3, 5, 7]\n"
          ]
        }
      ]
    },
    {
      "cell_type": "markdown",
      "source": [
        "5)Write a program to prompt the user for hours and rate per hour to compute gross pay. If\n",
        "employee works for hours 40 above, then give 1.5times the hourly rate for hours worked.\n",
        "e.g Enter Hours: 45\n",
        "Enter Rate: 10\n",
        "Pay: 475.0 "
      ],
      "metadata": {
        "id": "wyfjollY6QDt"
      }
    },
    {
      "cell_type": "code",
      "source": [
        "hours = float(input(\"Enter hours:\"))\n",
        "rate = float(input(\"Enter the rate per hour:\"))\n",
        "\n",
        "if hours <= 40:\n",
        " \tprint( hours  * rate)\n",
        "elif hours > 40:\n",
        "\tprint(40*rate + (hours-40)*1.5*rate)"
      ],
      "metadata": {
        "colab": {
          "base_uri": "https://localhost:8080/"
        },
        "id": "PiUIAyro07Zk",
        "outputId": "39ef61c8-14fd-4085-9d56-e45d19a7f509"
      },
      "execution_count": null,
      "outputs": [
        {
          "output_type": "stream",
          "name": "stdout",
          "text": [
            "Enter hours:45\n",
            "Enter the rate per hour:10\n",
            "475.0\n"
          ]
        }
      ]
    }
  ]
}