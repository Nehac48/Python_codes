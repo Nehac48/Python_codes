{
  "nbformat": 4,
  "nbformat_minor": 0,
  "metadata": {
    "colab": {
      "name": "Practical2(Neha__Chaudhari).ipynb",
      "provenance": [],
      "collapsed_sections": []
    },
    "kernelspec": {
      "name": "python3",
      "display_name": "Python 3"
    },
    "language_info": {
      "name": "python"
    }
  },
  "cells": [
    {
      "cell_type": "markdown",
      "source": [
        "***Write python codes to demonstrate the use of following concepts***\n",
        "**1)Strings.**"
      ],
      "metadata": {
        "id": "PaApPyGb_k6o"
      }
    },
    {
      "cell_type": "code",
      "execution_count": null,
      "metadata": {
        "colab": {
          "base_uri": "https://localhost:8080/"
        },
        "id": "Qv27Fylv9Pdp",
        "outputId": "8a18fa8d-910b-45d0-8e74-6b2be8381566"
      },
      "outputs": [
        {
          "output_type": "stream",
          "name": "stdout",
          "text": [
            "Hello Neha Chaudhari.\n",
            "Hello neha chaudhari.\n",
            "Hello Neha chaudhari.\n",
            "Hello!,Neha Chaudhari.\n"
          ]
        }
      ],
      "source": [
        "first_name=\"Neha\"\n",
        "last_name=\" chaudhari.\"\n",
        "full_name=first_name+\"\"+last_name\n",
        "print(\"Hello\",full_name.title())\n",
        "print(\"Hello\",full_name.lower())\n",
        "print(\"Hello\",full_name.strip()) #removes whitespaces before and after in string,strip method is used to remove spaces before and after.\n",
        "full_name=f\"{first_name}{last_name}\" #f-string.\n",
        "#full_name=f\"{first_name}{last_name}\" here f string means it encloses within \"\" and  variables in {}\n",
        "#f-strings.\n",
        "#f\"{variable1}{variable2}\"\n",
        "print(f\"Hello!,{full_name.title()}\")"
      ]
    },
    {
      "cell_type": "markdown",
      "source": [
        "**2)List**"
      ],
      "metadata": {
        "id": "b1U6H4YRLH7g"
      }
    },
    {
      "cell_type": "code",
      "source": [
        "names=['neha','sita','gita']\n",
        "names.append('nita')\n",
        "print(names)\n",
        "names.insert(2,'mayuri') #inserts at position 2.\n",
        "print(names)\n",
        "del names[2] #deletes at position.\n",
        "print(names)\n",
        "popped_item=names.pop(2) #pops at index 2 element.\n",
        "print(names)\n",
        "sorted(names) \n",
        "print(names)\n",
        "names.sort(reverse=True) #reverse ==true means sort in reverse order.\n",
        "print(names)\n",
        "print(names[-1]) #last element.\n"
      ],
      "metadata": {
        "colab": {
          "base_uri": "https://localhost:8080/"
        },
        "id": "hWYx4zvULLjz",
        "outputId": "4042a7ab-931e-45e5-8240-a87de16383f1"
      },
      "execution_count": null,
      "outputs": [
        {
          "output_type": "stream",
          "name": "stdout",
          "text": [
            "['neha', 'sita', 'gita', 'nita']\n",
            "['neha', 'sita', 'mayuri', 'gita', 'nita']\n",
            "['neha', 'sita', 'gita', 'nita']\n",
            "['neha', 'sita', 'nita']\n",
            "['neha', 'sita', 'nita']\n",
            "['sita', 'nita', 'neha']\n",
            "neha\n"
          ]
        }
      ]
    },
    {
      "cell_type": "markdown",
      "source": [
        "***3)Tuples.***"
      ],
      "metadata": {
        "id": "g0ilNfSFNmtr"
      }
    },
    {
      "cell_type": "code",
      "source": [
        "#tuple is like a list which can't be changed.tuple can't be modified and we need to change whole tuple again.\n",
        "#but we can define whole tuple again to change it.\n",
        "fruits=('apple','lichi')\n",
        "for fruit in fruits:\n",
        "  print(fruit)"
      ],
      "metadata": {
        "colab": {
          "base_uri": "https://localhost:8080/"
        },
        "id": "Wrk2pHlaNtyx",
        "outputId": "d25e186d-81d0-4547-c2ad-a23abefbf554"
      },
      "execution_count": null,
      "outputs": [
        {
          "output_type": "stream",
          "name": "stdout",
          "text": [
            "apple\n",
            "lichi\n"
          ]
        }
      ]
    },
    {
      "cell_type": "markdown",
      "source": [
        "***4)Sets***"
      ],
      "metadata": {
        "id": "3EOyf-qlToas"
      }
    },
    {
      "cell_type": "code",
      "source": [
        "#set is collection having unordered,unchangeble and unindexed we can add or remove items hovewer\n",
        "fruits={'apple','mango'}\n",
        "fruits.add('orange')\n",
        "print(fruits)\n",
        "fruits.clear()\n",
        "print(fruits)\n",
        "set1={'1','2','3'}\n",
        "set2={'4','5','6'}\n",
        "set3=set1.union(set2)\n",
        "print(set3)\n",
        "x=input(\"Enter number:\")\n",
        "if x in set1:\n",
        " print(\"I am there\")"
      ],
      "metadata": {
        "colab": {
          "base_uri": "https://localhost:8080/"
        },
        "id": "0R81-kGjTue-",
        "outputId": "66b169cb-1335-4060-be40-19237af30d7c"
      },
      "execution_count": null,
      "outputs": [
        {
          "output_type": "stream",
          "name": "stdout",
          "text": [
            "{'orange', 'mango', 'apple'}\n",
            "set()\n",
            "{'4', '1', '6', '2', '3', '5'}\n",
            "Enter number:3\n",
            "I am there\n"
          ]
        }
      ]
    },
    {
      "cell_type": "markdown",
      "source": [
        "***5)Dictionary.***"
      ],
      "metadata": {
        "id": "C9sUwZETONx5"
      }
    },
    {
      "cell_type": "code",
      "source": [
        "#its a collection of key-value pairs.\n",
        "#we can store many such pairs.\n",
        "#we can add key-value pairs as well as remove by del\n",
        "cartoon={'color':'green','x_position':0}\n",
        "print(cartoon)\n",
        "cartoon['color']='yellow'\n",
        "print(cartoon)\n",
        "del cartoon['color']\n",
        "print(cartoon)\n",
        "cartoon2={'color':'pink','name':'ninja'}\n",
        "print(cartoon2)"
      ],
      "metadata": {
        "colab": {
          "base_uri": "https://localhost:8080/"
        },
        "id": "gj2db-IkOVea",
        "outputId": "50f15483-9edc-47aa-ab9d-a388130aa24b"
      },
      "execution_count": null,
      "outputs": [
        {
          "output_type": "stream",
          "name": "stdout",
          "text": [
            "{'color': 'green', 'x_position': 0}\n",
            "{'color': 'yellow', 'x_position': 0}\n",
            "{'x_position': 0}\n",
            "{'color': 'pink', 'name': 'ninja'}\n"
          ]
        }
      ]
    },
    {
      "cell_type": "markdown",
      "source": [
        "***6)Arrays***"
      ],
      "metadata": {
        "id": "s2VAZvbgXnKk"
      }
    },
    {
      "cell_type": "code",
      "source": [
        "#arrays =through index we can access elements\n",
        "#Python does not have built-in support for Arrays, but Python Lists can be used instead.\n",
        "myArray=[\"name\",\"sita\"]\n",
        "myArray.append(\"ram\")\n",
        "print(myArray)\n",
        "num = [1, 4, 2, 9, 7, 8, 9, 3, 1]\n",
        "val= num.count(9)\n",
        "print(val)\n",
        "fruits = ['apple', 'banana', 'cherry']\n",
        "cars = ['Ford', 'BMW', 'Volvo']\n",
        "fruits.extend(cars)\n",
        "print(fruits)"
      ],
      "metadata": {
        "colab": {
          "base_uri": "https://localhost:8080/"
        },
        "id": "m6AdKojTX7Yi",
        "outputId": "dff0caa2-2de0-46df-e2e6-cb00d7aee468"
      },
      "execution_count": null,
      "outputs": [
        {
          "output_type": "stream",
          "name": "stdout",
          "text": [
            "['name', 'sita', 'ram']\n",
            "2\n",
            "['apple', 'banana', 'cherry', 'Ford', 'BMW', 'Volvo']\n"
          ]
        }
      ]
    },
    {
      "cell_type": "markdown",
      "source": [
        "***Q2) a)variables,expression condition,function***"
      ],
      "metadata": {
        "id": "JTDNXDhY4UNn"
      }
    },
    {
      "cell_type": "code",
      "source": [
        "a=4\n",
        "print(a)\n",
        "A=8\n",
        "print(A)\n",
        "#expression condition\n",
        "if A%a==0:\n",
        " print(\"yes\")\n",
        "elif A==a:\n",
        " a=a+1\n",
        "else:\n",
        " print(\"None\")\n",
        "#functions\n",
        "#using def we do this declaration\n",
        "#if its <0 then 0,ans\n",
        "#else if 1 \n",
        "#else ans=1,and if its >1 then we ans=4*1 then 4*3*2=24\n",
        "def factorial(a):\n",
        " if a < 0:\n",
        "        return 0\n",
        " elif a == 0 or a == 1:\n",
        "        return 1\n",
        " else:\n",
        "        ans = 1\n",
        "        while(a > 1):\n",
        "            ans *= a\n",
        "            a -= 1\n",
        "        return ans\n",
        "a=4\n",
        "print(factorial(a))\n",
        " "
      ],
      "metadata": {
        "colab": {
          "base_uri": "https://localhost:8080/"
        },
        "id": "6-BIvs9C5Arr",
        "outputId": "fa654105-c132-439d-a6bf-f2edbbb84410"
      },
      "execution_count": null,
      "outputs": [
        {
          "output_type": "stream",
          "name": "stdout",
          "text": [
            "4\n",
            "8\n",
            "yes\n",
            "24\n"
          ]
        }
      ]
    },
    {
      "cell_type": "markdown",
      "source": [
        "**b)**\n",
        "***max value of int***\n",
        "The maximum possible value of int can be obtained with sys.maxint. The minimum value (the largest negative value) is -sys.maxint-1.in Python2 long has no maximum / minimum limit.\n",
        "int in Python3 corresponds to long in Python2, and there is no maximum / minimum limit.\n",
        "\n",
        "The sys.maxint constant was removed, since there is no longer a limit to the value of integers. However, sys.maxsize can be used as an integer larger than any practical list or string index. It conforms to the implementation’s “natural” integer size and is typically the same as sys.maxint in previous releases on the same platform (assuming the same build options).\n",
        "What’s New In Python 3.0 — Python 3.8.4 documentation\n",
        "\n",
        "In Python3, sys.maxint has been removed, and sys.maxsize has been added.\n",
        "\n",
        "sys.maxsize — System-specific parameters and functions — Python 3.8.4 documentation\n",
        "sys.maxsize is 2**31-1 on a 32-bit environment and 2**63-1 on a 64-bit environment, like sys.maxint in Python2.\n",
        "\n"
      ],
      "metadata": {
        "id": "Oh0NEbBa8Mx5"
      }
    },
    {
      "cell_type": "code",
      "source": [
        "import sys\n",
        "\n",
        "print(sys.maxsize)\n",
        "# 9223372036854775807\n",
        "print(type(sys.maxsize))\n",
        "# <class 'int'>\n",
        "print(sys.maxsize == 2**63 - 1)\n",
        "# True"
      ],
      "metadata": {
        "colab": {
          "base_uri": "https://localhost:8080/"
        },
        "id": "j8NZAxHHMWSo",
        "outputId": "8cfa9ff6-41b6-4159-b675-539342966f5d"
      },
      "execution_count": null,
      "outputs": [
        {
          "output_type": "stream",
          "name": "stdout",
          "text": [
            "9223372036854775807\n",
            "<class 'int'>\n",
            "True\n"
          ]
        }
      ]
    },
    {
      "cell_type": "markdown",
      "source": [
        "***c)global,local variable.***"
      ],
      "metadata": {
        "id": "2l4ZGPiy6DLR"
      }
    },
    {
      "cell_type": "code",
      "source": [
        "a=4 #global variable\n",
        "def sum(p,q):\n",
        "   w=0 #local\n",
        "   global a #to change global variable we use global keyword.\n",
        "   a=a+1\n",
        "   print(p+q)\n",
        "\n",
        "sum(9,8)\n",
        "print(a)\n",
        "#print(w)#local\n"
      ],
      "metadata": {
        "colab": {
          "base_uri": "https://localhost:8080/"
        },
        "id": "g0rXUoih6MxS",
        "outputId": "640a662d-1a8a-4507-c608-c1897ebe8194"
      },
      "execution_count": null,
      "outputs": [
        {
          "output_type": "stream",
          "name": "stdout",
          "text": [
            "17\n",
            "5\n"
          ]
        }
      ]
    },
    {
      "cell_type": "markdown",
      "source": [
        "***d)packing and unpacking***"
      ],
      "metadata": {
        "id": "XEgvy8vZFhXL"
      }
    },
    {
      "cell_type": "code",
      "source": [
        "#* for tuples , ** for dictionary\n",
        "#if 4 arguments but we pass 1 then won't work.\n",
        "\n",
        "#unpacking means,all elements of it can be passed as different arguments.\n",
        "# def fun(a,b,c,d)\n",
        "#  print(a,b,c,d)\n",
        "#mylist=[1,4,5,7]\n",
        "#func(mylist)==gives error\n",
        "def fun(a,b,c,d):\n",
        "  print(a,b,c,d)\n",
        "my_list=[1,4,5,7]\n",
        "fun(*my_list) #unpacking.\n",
        "x=[1,5]\n",
        "#print(range(x))==error as range takes start and end,range doesn't understand 1 is start ,5 is end\n",
        "print(list(range(*x)))# converted to list.\n",
        "#length of list==no of arguments.\n",
        "#when we don't know no of arguments we use packing.\n",
        "#packing. values at runtime, pack all values in one place\n",
        "def Fun(*tup):\n",
        "  print(tup)\n",
        "Fun(10,5)\n",
        "Fun(10,5,6,8)\n",
        "\n",
        "\n"
      ],
      "metadata": {
        "colab": {
          "base_uri": "https://localhost:8080/"
        },
        "outputId": "bb1b9b74-c6e7-4dcb-91fb-4744c35b5352",
        "id": "dKEguaWgFYiK"
      },
      "execution_count": null,
      "outputs": [
        {
          "output_type": "stream",
          "name": "stdout",
          "text": [
            "1 4 5 7\n",
            "[1, 2, 3, 4]\n",
            "(10, 5)\n",
            "(10, 5, 6, 8)\n"
          ]
        }
      ]
    },
    {
      "cell_type": "markdown",
      "source": [
        "***e)type conversion.***\n",
        "**it has functions.**"
      ],
      "metadata": {
        "id": "t_bjm6pUWwLi"
      }
    },
    {
      "cell_type": "code",
      "source": [
        "#implicit \n",
        "x=10\n",
        "print(type(x))\n",
        "y=10.7\n",
        "sum=x+y\n",
        "print(type(sum))\n",
        "print(sum)\n",
        "#explicit.\n",
        "#chr(num)\n",
        "print(chr(98))\n",
        "#complex(real,imaginary)==converts real to complex\n",
        "print(complex(1,2))\n",
        "s=\"name\"\n",
        "print(set(s))\n",
        "#int(a,base)==converts any data type to integer,base==base in which string is if data type is string\n",
        "s=\"1001\"\n",
        "print(int(s,8))\n"
      ],
      "metadata": {
        "colab": {
          "base_uri": "https://localhost:8080/"
        },
        "id": "glMQZvPmXCJI",
        "outputId": "397c123b-8533-4db7-caf8-b6de8e365fe2"
      },
      "execution_count": null,
      "outputs": [
        {
          "output_type": "stream",
          "name": "stdout",
          "text": [
            "<class 'int'>\n",
            "<class 'float'>\n",
            "20.7\n",
            "b\n",
            "(1+2j)\n",
            "{'a', 'e', 'n', 'm'}\n",
            "513\n"
          ]
        }
      ]
    },
    {
      "cell_type": "markdown",
      "source": [
        "***f)*** byte objects vs strings\n",
        "strings need encoding before storing on disk.\n",
        "encoding means converting to byte objects.\n",
        "default encoding technique UTF-8.\n"
      ],
      "metadata": {
        "id": "QsrBdedQz-k9"
      }
    },
    {
      "cell_type": "code",
      "source": [
        "#Byte objects are sequence of bytes\n",
        "#done by encode()(string to byte)\n",
        "#encode\n",
        "print('Hello'.encode('ASCII'))\n",
        "#decode\n",
        "print( b'Hello'.decode('ASCII'))"
      ],
      "metadata": {
        "colab": {
          "base_uri": "https://localhost:8080/"
        },
        "id": "6O3nuD2l0iW7",
        "outputId": "4c1b7a0a-91af-462c-d0fd-5d27955a5204"
      },
      "execution_count": null,
      "outputs": [
        {
          "output_type": "stream",
          "name": "stdout",
          "text": [
            "b'Hello'\n",
            "Hello\n"
          ]
        }
      ]
    },
    {
      "cell_type": "markdown",
      "source": [
        "***g)single,multiple variable***\n"
      ],
      "metadata": {
        "id": "ZR6IIvn2ZRNB"
      }
    },
    {
      "cell_type": "code",
      "source": [
        "print(2)\n",
        "print(2,3)\n",
        "#python assigns variables from right to left.\n",
        "a,b=4,8\n",
        "print(a,b)\n",
        "a,b,c,d=5,\"neha\",5.7,True\n",
        "print(a,b,c,d)"
      ],
      "metadata": {
        "colab": {
          "base_uri": "https://localhost:8080/"
        },
        "id": "HQD8_1lEZ4pw",
        "outputId": "7620ce80-9d39-4199-bfbd-a1acf072988e"
      },
      "execution_count": null,
      "outputs": [
        {
          "output_type": "stream",
          "name": "stdout",
          "text": [
            "2\n",
            "2 3\n",
            "4 8\n",
            "5 neha 5.7 True\n"
          ]
        }
      ]
    },
    {
      "cell_type": "markdown",
      "source": [
        "***h)swap***"
      ],
      "metadata": {
        "id": "dd362FNm5cRm"
      }
    },
    {
      "cell_type": "code",
      "source": [
        "a=3\n",
        "b=4\n",
        "'''a=a+b\n",
        "b=a-b\n",
        "a=a-b'''\n",
        "\n",
        "a,b=b,a\n",
        "\n",
        "print(a)\n",
        "print(b)\n"
      ],
      "metadata": {
        "colab": {
          "base_uri": "https://localhost:8080/"
        },
        "id": "sqPRbiPK5quc",
        "outputId": "388c8363-c204-422b-8169-b6e31dfdcadd"
      },
      "execution_count": null,
      "outputs": [
        {
          "output_type": "stream",
          "name": "stdout",
          "text": [
            "4\n",
            "3\n"
          ]
        }
      ]
    },
    {
      "cell_type": "markdown",
      "source": [
        "***i)Private variable***"
      ],
      "metadata": {
        "id": "-ijbV3cV0cj7"
      }
    },
    {
      "cell_type": "code",
      "source": [
        "#In actual terms (practically), python doesn’t have anything called private member variable in Python. However, adding two underlines(__) at the beginning makes a variable or a method private is the convention used by most python code.\n",
        "# here __ means it becomes private \n",
        "#Python does not support private variables. Instead, name mangling is used to emulate private variables in Python.\n",
        "class Animal:\n",
        "   def __init__(self,color,age):\n",
        "     self.color=color\n",
        "     self.__age=age\n",
        "   def show(self):\n",
        "    print(self.color)\n",
        "    print(self.__age)\n",
        "horse=Animal(\"brown\",30) \n",
        "horse.show()\n",
        "# so private variable can be accessed in class not out of it.\n"
      ],
      "metadata": {
        "colab": {
          "base_uri": "https://localhost:8080/"
        },
        "id": "CsiwSuzV08oV",
        "outputId": "b5b0a42b-06fd-40ea-d7dd-2a1e9dfb44a7"
      },
      "execution_count": null,
      "outputs": [
        {
          "output_type": "stream",
          "name": "stdout",
          "text": [
            "brown\n",
            "30\n"
          ]
        }
      ]
    },
    {
      "cell_type": "markdown",
      "source": [
        "***j) Special variable.*** \n",
        "\n"
      ],
      "metadata": {
        "id": "wrAB3nwAs4SE"
      }
    },
    {
      "cell_type": "code",
      "source": [
        "#__name__ special variable,It is mainly used to check whether the module is imported or not,By giving if __name __ == “__main__” statement, you can check whether your program is being run directly or imported by someone else.\n",
        "#The __name__ is a special variable in Python. It’s special because Python assigns a different value to it depending on how its containing script executes.\n",
        "#When you run the script directly, Python sets the __name__ variable to '__main__'.\n",
        "#However, if you import a file as a module, Python sets the module name to the __name__ variable.\n",
        "def sum(a,b):\n",
        " return a+b\n",
        "def main():\n",
        " a=4\n",
        " b=3\n",
        " print(sum(4,3))\n",
        "#main()\n",
        "#but don't prefer this way so,\n",
        "if __name__==\"__main__\":main()\n",
        "print(__name__)\n",
        "\n",
        "  "
      ],
      "metadata": {
        "colab": {
          "base_uri": "https://localhost:8080/"
        },
        "id": "jhlPDY71tBI4",
        "outputId": "9cdca008-ebce-4b09-b8c7-182047a696f2"
      },
      "execution_count": null,
      "outputs": [
        {
          "output_type": "stream",
          "name": "stdout",
          "text": [
            "7\n",
            "__main__\n"
          ]
        }
      ]
    }
  ]
}