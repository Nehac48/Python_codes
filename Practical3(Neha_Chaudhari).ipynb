{
  "nbformat": 4,
  "nbformat_minor": 0,
  "metadata": {
    "colab": {
      "name": "Practical3(Neha_Chaudhari).ipynb",
      "provenance": [],
      "collapsed_sections": []
    },
    "kernelspec": {
      "name": "python3",
      "display_name": "Python 3"
    },
    "language_info": {
      "name": "python"
    }
  },
  "cells": [
    {
      "cell_type": "markdown",
      "source": [
        "***Program to convert temperature from Fahrenheit to Celsius in Python.***"
      ],
      "metadata": {
        "id": "Abmj4KDfbc54"
      }
    },
    {
      "cell_type": "code",
      "execution_count": 5,
      "metadata": {
        "colab": {
          "base_uri": "https://localhost:8080/"
        },
        "id": "PSVYYmY_bRBN",
        "outputId": "2d3e8a30-0ec5-45df-d825-1a8de6f2d1a3"
      },
      "outputs": [
        {
          "output_type": "stream",
          "name": "stdout",
          "text": [
            "Input temperature in fahrenheit: 98.6\n",
            "37.0\n"
          ]
        }
      ],
      "source": [
        "class Temperature:\n",
        "  #as we have F-32/180=C/100\n",
        "  #So C=((F-32)/180)*100=(F-32)*5/9\n",
        "    # class name.\n",
        "    #constructor initialised.\n",
        "    def __init__(self, temp):\n",
        "        self.temp = temp\n",
        "    def convert_to_celsius(self):\n",
        "        result = float((self.temp - 32) * 5 / 9)\n",
        "        return result\n",
        "\n",
        "temp_input = float(input(\"Input temperature in fahrenheit: \"))\n",
        "temp1 = Temperature(temp_input)\n",
        "print(temp1.convert_to_celsius())"
      ]
    }
  ]
}