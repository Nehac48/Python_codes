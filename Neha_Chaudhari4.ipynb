{
  "nbformat": 4,
  "nbformat_minor": 0,
  "metadata": {
    "colab": {
      "name": "Neha_Chaudhari4.ipynb",
      "provenance": [],
      "collapsed_sections": []
    },
    "kernelspec": {
      "name": "python3",
      "display_name": "Python 3"
    },
    "language_info": {
      "name": "python"
    }
  },
  "cells": [
    {
      "cell_type": "markdown",
      "source": [
        "***1) Program to check if the Given List is in Ascending Order or Not.***"
      ],
      "metadata": {
        "id": "J-yMnA8LmSr2"
      }
    },
    {
      "cell_type": "code",
      "execution_count": 6,
      "metadata": {
        "colab": {
          "base_uri": "https://localhost:8080/"
        },
        "id": "P3eBy5DSmRiO",
        "outputId": "9fbd0977-50a2-4b47-9130-3e1673f734be"
      },
      "outputs": [
        {
          "output_type": "stream",
          "name": "stdout",
          "text": [
            "True\n"
          ]
        }
      ],
      "source": [
        "#Program to check if the Given List is in Ascending Order or Not.\n",
        "#function creation.\n",
        "def checkascending(list):\n",
        "#traversing list and checking if next number is greater than previous\n",
        "  for i in range(len(list)-1):\n",
        "    if list[i]<list[i+1]:\n",
        "     continue\n",
        "    else:\n",
        "     return False\n",
        "\n",
        "\n",
        "  return True\n",
        "list=[1,7,4,6]\n",
        "ans=checkascending(list)\n",
        "print(ans)"
      ]
    },
    {
      "cell_type": "markdown",
      "source": [
        "***2)Program to Find Even Numbers from a List.***"
      ],
      "metadata": {
        "id": "22QcWDMupOi6"
      }
    },
    {
      "cell_type": "code",
      "source": [
        "list=[2,3,4,6,8,0]\n",
        "#list traversing and printing even numbers.\n",
        "for i in list:\n",
        "  if i%2==0:\n",
        "    print(i)"
      ],
      "metadata": {
        "colab": {
          "base_uri": "https://localhost:8080/"
        },
        "id": "gIUE2fMtpSVS",
        "outputId": "b466a707-4158-4ef4-dd9f-5a343cf86347"
      },
      "execution_count": 1,
      "outputs": [
        {
          "output_type": "stream",
          "name": "stdout",
          "text": [
            "2\n",
            "4\n",
            "6\n",
            "8\n",
            "0\n"
          ]
        }
      ]
    },
    {
      "cell_type": "markdown",
      "source": [
        "***3)Program to Merge Two Lists.***"
      ],
      "metadata": {
        "id": "-dG9Bhovp7IT"
      }
    },
    {
      "cell_type": "code",
      "source": [
        "#we can append two lists using (+) operator.\n",
        "list1 = [5, 10, 6, 19]\n",
        "list2 = [26, 29, 40, 90, 31]\n",
        "\n",
        "new_list = (list1 +list2)\n",
        "\n",
        "print(\"merged list is:\",new_list )\n",
        "#other method\n",
        "list1=[]\n",
        "list2=[]\n",
        "n1=int(input(\"Enter number of elements:\"))\n",
        "for i in range(0,n1):\n",
        "    b=int(input(\"Enter element:\"))\n",
        "#using append function,to add elements in empty list then merging both of them.\n",
        "    list1.append(b)\n",
        "n2=int(input(\"Enter number of elements:\"))\n",
        "for i in range(0,n2):\n",
        "    d=int(input(\"Enter element:\"))\n",
        "    list2.append(d)\n",
        "new=list1+list2\n",
        "print(\"Merged list is:\",new)"
      ],
      "metadata": {
        "colab": {
          "base_uri": "https://localhost:8080/"
        },
        "id": "1DImFqgZqEvs",
        "outputId": "6ea7bd80-8190-4291-a85c-513d93af83bf"
      },
      "execution_count": 2,
      "outputs": [
        {
          "output_type": "stream",
          "name": "stdout",
          "text": [
            "merged list is: [5, 10, 6, 19, 26, 29, 40, 90, 31]\n",
            "Enter number of elements:2\n",
            "Enter element:1\n",
            "Enter element:5\n",
            "Enter number of elements:7\n",
            "Enter element:8\n",
            "Enter element:9\n",
            "Enter element:0\n",
            "Enter element:5\n",
            "Enter element:6\n",
            "Enter element:4\n",
            "Enter element:2\n",
            "Merged list is: [1, 5, 8, 9, 0, 5, 6, 4, 2]\n"
          ]
        }
      ]
    },
    {
      "cell_type": "markdown",
      "source": [
        "***4)Interchange First and Last Element of a List.***"
      ],
      "metadata": {
        "id": "hH1CPiDturB3"
      }
    },
    {
      "cell_type": "code",
      "source": [
        "def interchange(List):\n",
        "    size = len(List)\n",
        "     #using swap function\n",
        "    # Swapping\n",
        "    temp = List[0]\n",
        "    List[0] = List[size - 1]\n",
        "    List[size - 1] = temp\n",
        "     \n",
        "    return List\n",
        "     \n",
        "# Driver code\n",
        "List = [12, 8, 9, 0, 24]\n",
        "#or we can use inbuilt swap function.\n",
        "print(interchange(List))\n",
        "def interchange2(List):\n",
        "     \n",
        "    List[0], List[-1] = List[-1], List[0]\n",
        " \n",
        "    return List\n",
        "     \n",
        "# Driver code\n",
        "List2 = [30, 35, 9, 56, 44]\n",
        "print(interchange2(List2))"
      ],
      "metadata": {
        "colab": {
          "base_uri": "https://localhost:8080/"
        },
        "id": "woIy39ywx6iL",
        "outputId": "2c7805dc-9135-48d9-bf3b-01881f0b27e7"
      },
      "execution_count": 19,
      "outputs": [
        {
          "output_type": "stream",
          "name": "stdout",
          "text": [
            "[24, 8, 9, 0, 12]\n",
            "[44, 35, 9, 56, 30]\n"
          ]
        }
      ]
    },
    {
      "cell_type": "markdown",
      "source": [
        "***5. Program to Subtract a List from Another List.***"
      ],
      "metadata": {
        "id": "6hNMvF7oz0ge"
      }
    },
    {
      "cell_type": "code",
      "source": [
        "def subtract(list1, list2):\n",
        "#casting into set\n",
        "    return list(set(list1) - set(list2)) + list(set(list2) - set(list1))\n",
        "list1 = [9,1,3]\n",
        " \n",
        "list2 = [4,4,5]\n",
        " \n",
        "ans=subtract(list1,list2)\n",
        " \n",
        "#create and initialize two lists.\n",
        " \n",
        "list1 = [9,1,3]\n",
        " \n",
        "list2 = [4,4,5]\n",
        " \n",
        "#perform subtraction and store the result in difference,we are taking min of length as newlist can have only those elements common in both the lists .\n",
        " \n",
        "difference = [list1[i]-list2[i] for i in range(min(len(list1), len(list2)))]\n",
        " \n",
        "#print the difference of two lists\n",
        " \n",
        "print(difference)\n"
      ],
      "metadata": {
        "colab": {
          "base_uri": "https://localhost:8080/"
        },
        "id": "fEO9exmN92rt",
        "outputId": "78a3a489-a3a0-40b3-a5d9-60d2a8b81eca"
      },
      "execution_count": 7,
      "outputs": [
        {
          "output_type": "stream",
          "name": "stdout",
          "text": [
            "[5, -3, -2]\n"
          ]
        }
      ]
    },
    {
      "cell_type": "markdown",
      "source": [
        "***6. Program to Get Data Items from a List Appearing Odd Number of Times.***"
      ],
      "metadata": {
        "id": "0t_kuGJG1GoN"
      }
    },
    {
      "cell_type": "code",
      "source": [
        "#in approach here ,we take one element and leaving that element we traverse remaining list if they are equal then we increment count.\n",
        "def getodd_occurrence(arr, arr_size):\n",
        "      \n",
        "    for i in range(0, arr_size):\n",
        "        count = 0\n",
        "        for j in range(0, arr_size):\n",
        "            if arr[i] == arr[j]:\n",
        "                count+= 1\n",
        "              \n",
        "        if (count % 2 != 0):\n",
        "            return arr[i]\n",
        "        \n",
        "    return -1\n",
        "      \n",
        "      \n",
        "# driver code \n",
        "arr = [2, 3, 5, 9, 9, 2, 4, 3, 5, 2, 4, 4, 2 ]\n",
        "n = len(arr)\n",
        "print(getodd_occurrence(arr, n))"
      ],
      "metadata": {
        "colab": {
          "base_uri": "https://localhost:8080/"
        },
        "id": "L6ZI_-X_Awqz",
        "outputId": "d7a320fd-ac29-4a99-ff8b-d3b78b6220bb"
      },
      "execution_count": 9,
      "outputs": [
        {
          "output_type": "stream",
          "name": "stdout",
          "text": [
            "5\n"
          ]
        }
      ]
    }
  ]
}