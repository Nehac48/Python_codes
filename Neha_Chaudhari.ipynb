{
  "nbformat": 4,
  "nbformat_minor": 0,
  "metadata": {
    "colab": {
      "name": "Neha_Chaudhari.ipynb",
      "provenance": [],
      "collapsed_sections": []
    },
    "kernelspec": {
      "name": "python3",
      "display_name": "Python 3"
    },
    "language_info": {
      "name": "python"
    }
  },
  "cells": [
    {
      "cell_type": "markdown",
      "source": [
        "***Program 1.***"
      ],
      "metadata": {
        "id": "6CPREOkmsnp5"
      }
    },
    {
      "cell_type": "code",
      "source": [
        "# adding two numbers.\n",
        "#converting string to int by casting to int as in input method its by default string.\n",
        "num1=int(input(\"Enter 1st number:\")) \n",
        "#converting string to number by casting to int.\n",
        "num2=int(input(\"Enter 2nd number:\")) \n",
        "#naming variables in snake case notation.\n",
        "add_two_numbers=num1+num2 \n",
        "print(\"The output is:\" + \" \" + str(add_two_numbers))"
      ],
      "metadata": {
        "colab": {
          "base_uri": "https://localhost:8080/"
        },
        "id": "0WSBTtRv6MYc",
        "outputId": "b435dbfc-d8dc-4106-8d70-6f3bba88dd3f"
      },
      "execution_count": 30,
      "outputs": [
        {
          "output_type": "stream",
          "name": "stdout",
          "text": [
            "Enter 1st number:100\n",
            "Enter 2nd number:35\n",
            "The output is: 135\n"
          ]
        }
      ]
    },
    {
      "cell_type": "markdown",
      "source": [
        "**Program 2.**"
      ],
      "metadata": {
        "id": "enkBpbza96S_"
      }
    },
    {
      "cell_type": "code",
      "source": [
        "# maximum of two numbers.\n",
        "a=int(input(\"Enter 1st no:\"))\n",
        "b=int(input(\"Enter 2nd no:\"))\n",
        "if a>b:\n",
        "  print(a)\n",
        "elif b>a:\n",
        "  print(b)\n",
        "else:\n",
        "  print(\"Equal\")\n",
        "\n"
      ],
      "metadata": {
        "colab": {
          "base_uri": "https://localhost:8080/"
        },
        "id": "Ptwnvh-X99LV",
        "outputId": "c8ddc0cf-9a0c-4b07-98f2-a9bcff29ccd3"
      },
      "execution_count": 31,
      "outputs": [
        {
          "output_type": "stream",
          "name": "stdout",
          "text": [
            "Enter 1st no:100\n",
            "Enter 2nd no:4\n",
            "100\n"
          ]
        }
      ]
    },
    {
      "cell_type": "markdown",
      "source": [
        "**Program 3.**"
      ],
      "metadata": {
        "id": "MPPr5ICs_HTz"
      }
    },
    {
      "cell_type": "code",
      "source": [
        "#factorial of a number.\n",
        "a=int(input(\"Enter a no:\"))\n",
        "# inbuilt function.\n",
        "print(factorial(a))\n"
      ],
      "metadata": {
        "colab": {
          "base_uri": "https://localhost:8080/"
        },
        "id": "Q8GdnVsM_K_Y",
        "outputId": "0872c66a-521d-4ad9-b59d-68dbe5c3c1e0"
      },
      "execution_count": null,
      "outputs": [
        {
          "output_type": "stream",
          "name": "stdout",
          "text": [
            "Enter a no:6\n",
            "720\n"
          ]
        }
      ]
    },
    {
      "cell_type": "markdown",
      "source": [
        "**Program 4.**"
      ],
      "metadata": {
        "id": "UQ4jUY0_DdsP"
      }
    },
    {
      "cell_type": "code",
      "source": [
        "# Simple interest.\n",
        "# S.I=P*N*R/100=formula\n",
        "p=int(input(\"Enter  principal :\"))\n",
        "n=int(input(\" Enter time period :\"))\n",
        "r=int(input(\"Enter rate:\"))\n",
        "si=(p*n*r)/100\n",
        "print(si)"
      ],
      "metadata": {
        "colab": {
          "base_uri": "https://localhost:8080/"
        },
        "id": "nxCXdl-HDgFF",
        "outputId": "c3f47d67-616b-48ae-ce3b-51ea5bf9d65f"
      },
      "execution_count": null,
      "outputs": [
        {
          "output_type": "stream",
          "name": "stdout",
          "text": [
            "Enter  principal :4\n",
            " Enter time period :4\n",
            "Enter rate:5\n",
            "0.8\n"
          ]
        }
      ]
    },
    {
      "cell_type": "markdown",
      "source": [
        "**Program 5.**"
      ],
      "metadata": {
        "id": "lU4UsoaWFGAL"
      }
    },
    {
      "cell_type": "code",
      "source": [
        "# formula for amount.\n",
        "principle=4\n",
        "rate=4\n",
        "time=3\n",
        "Amount = principle * (pow((1 + rate / 100), time)) \n",
        "CI = Amount - principle\n",
        "print(\"Compound interest is\", CI)"
      ],
      "metadata": {
        "colab": {
          "base_uri": "https://localhost:8080/"
        },
        "id": "SihZHUpDFJpm",
        "outputId": "79cecfa4-0406-4b18-8ec2-03cad6bccc28"
      },
      "execution_count": null,
      "outputs": [
        {
          "output_type": "stream",
          "name": "stdout",
          "text": [
            "Compound interest is 0.49945600000000034\n"
          ]
        }
      ]
    },
    {
      "cell_type": "markdown",
      "source": [
        "**Program 6.**"
      ],
      "metadata": {
        "id": "VfORLYy3gb5M"
      }
    },
    {
      "cell_type": "code",
      "source": [
        "# Python program to check if the number is an Armstrong number or not\n",
        "import math\n",
        "# take input from the user\n",
        "num = int(input(\"Enter a number: \"))\n",
        "\n",
        "# initialize sum\n",
        "sum = 0\n",
        "\n",
        "# find the sum of the cube of each digit\n",
        "# as we don't want to reflect to change on num.\n",
        "temp = num\n",
        "while temp > 0:\n",
        "   digit = temp % 10\n",
        "   sum =sum+math.pow(digit,3)\n",
        "   temp //= 10\n",
        "\n",
        "# display the result\n",
        "if num == sum:\n",
        "   print(num,\"is an Armstrong number\")\n",
        "else:\n",
        "   print(num,\"is not an Armstrong number\")"
      ],
      "metadata": {
        "colab": {
          "base_uri": "https://localhost:8080/"
        },
        "id": "F3m5HeejlRao",
        "outputId": "381393be-2482-410e-9f6b-6df8acc40b12"
      },
      "execution_count": null,
      "outputs": [
        {
          "output_type": "stream",
          "name": "stdout",
          "text": [
            "Enter a number: 153\n",
            "153 is an Armstrong number\n"
          ]
        }
      ]
    },
    {
      "cell_type": "markdown",
      "source": [
        "**Program 7.**"
      ],
      "metadata": {
        "id": "GnTOsJKCmYnd"
      }
    },
    {
      "cell_type": "code",
      "source": [
        "# area of circle\n",
        "PI=3.14\n",
        "radius=int(input(\"Enter radius of circle:\"))\n",
        "area=PI*r*r\n",
        "print(float(area))"
      ],
      "metadata": {
        "colab": {
          "base_uri": "https://localhost:8080/"
        },
        "id": "cEY6O6kZmbp9",
        "outputId": "093479be-f837-479e-975a-26ac2cc1151e"
      },
      "execution_count": null,
      "outputs": [
        {
          "output_type": "stream",
          "name": "stdout",
          "text": [
            "Enter radius of circle:7\n",
            "78.5\n"
          ]
        }
      ]
    },
    {
      "cell_type": "markdown",
      "source": [
        "**Program 8.**"
      ],
      "metadata": {
        "id": "O6x4b4YanRRK"
      }
    },
    {
      "cell_type": "code",
      "source": [
        "# prime numbers in an interval.\n",
        "# Python program to display all the prime numbers within an interval\n",
        "\n",
        "lower = 20\n",
        "upper = 100 \n",
        "print(\"Prime numbers between\", lower, \"and\", upper, \"are:\")\n",
        "# as upper we have to take.\n",
        "for num in range(lower, upper + 1):\n",
        "   # all prime numbers are greater than 1\n",
        "   if num > 1:\n",
        "       for i in range(2, num):\n",
        "           if num % i == 0:\n",
        "               break\n",
        "       else:\n",
        "           print(num)"
      ],
      "metadata": {
        "colab": {
          "base_uri": "https://localhost:8080/"
        },
        "id": "8p4G4oXNnZNp",
        "outputId": "7ba41c2d-cf26-4414-c924-896244147857"
      },
      "execution_count": null,
      "outputs": [
        {
          "output_type": "stream",
          "name": "stdout",
          "text": [
            "Prime numbers between 20 and 100 are:\n",
            "23\n",
            "29\n",
            "31\n",
            "37\n",
            "41\n",
            "43\n",
            "47\n",
            "53\n",
            "59\n",
            "61\n",
            "67\n",
            "71\n",
            "73\n",
            "79\n",
            "83\n",
            "89\n",
            "97\n"
          ]
        }
      ]
    },
    {
      "cell_type": "markdown",
      "source": [
        "***Program 9.***"
      ],
      "metadata": {
        "id": "MomEJq4gqNmE"
      }
    },
    {
      "cell_type": "code",
      "source": [
        "# check prime or not\n",
        "num=int(input(\"Enter a no:\"))\n",
        "if num > 1:\n",
        "  \n",
        "    # Iterate from 2 to n \n",
        "    for i in range(2, num):\n",
        "  \n",
        "        # If num is divisible by any number between\n",
        "        # 2 and n  it is not prime\n",
        "        if (num % i) == 0:\n",
        "            print(num, \"is not a prime number\")\n",
        "            break\n",
        "    else:\n",
        "        print(num, \"is a prime number\")\n",
        "  \n",
        "else:\n",
        "    print(num, \"is not a prime number\")"
      ],
      "metadata": {
        "colab": {
          "base_uri": "https://localhost:8080/"
        },
        "id": "TC6XvyAjqSjy",
        "outputId": "2d261b87-ec36-4630-e6e2-d9a4dc91b579"
      },
      "execution_count": 35,
      "outputs": [
        {
          "output_type": "stream",
          "name": "stdout",
          "text": [
            "Enter a no:17\n",
            "17 is a prime number\n"
          ]
        }
      ]
    },
    {
      "cell_type": "markdown",
      "source": [
        "**Program 10.**"
      ],
      "metadata": {
        "id": "ScXnWubcGKub"
      }
    },
    {
      "cell_type": "code",
      "source": [
        "# n-th term of fibonacci series\n",
        "n=int(input(\"Enter n :\"))\n",
        "first_term=0\n",
        "second_term=1\n",
        "# n is exclusion.\n",
        "for i in range (2,n):\n",
        "  next_term=first_term+second_term\n",
        "  first_term=second_term\n",
        "  second_term=next_term\n",
        "print(\"The\", n ,\"term of fibonacci series is:\", next_term)\n",
        "# 0 1 1 2 3 5 8\n"
      ],
      "metadata": {
        "colab": {
          "base_uri": "https://localhost:8080/"
        },
        "id": "5xLyFo22GRSm",
        "outputId": "f81e10ab-0e36-456f-b796-bd14f9abd64d"
      },
      "execution_count": 16,
      "outputs": [
        {
          "output_type": "stream",
          "name": "stdout",
          "text": [
            "Enter n :6\n",
            "The 6 term of fibonacci series is: 5\n"
          ]
        }
      ]
    },
    {
      "cell_type": "markdown",
      "source": [
        "**Program 11.**"
      ],
      "metadata": {
        "id": "0Kxbp_UkE2q7"
      }
    },
    {
      "cell_type": "code",
      "source": [
        "import math\n",
        "num=int(input(\"Enter a number: \"))\n",
        "\n",
        "if math.sqrt(5*pow(num,2)+4)>=0 or math.sqrt(5*pow(num,2)-4)>=0:\n",
        " print(\"Is a fibonacci\")\n",
        "else:\n",
        " print(\"Not a fibonacci\")  \n"
      ],
      "metadata": {
        "colab": {
          "base_uri": "https://localhost:8080/"
        },
        "id": "IU5LQmjPE6Zy",
        "outputId": "cd69ba7a-b63e-4daf-e87c-c3b367a72a32"
      },
      "execution_count": 36,
      "outputs": [
        {
          "output_type": "stream",
          "name": "stdout",
          "text": [
            "Enter a number: 34\n",
            "Is a fibonacci\n"
          ]
        }
      ]
    },
    {
      "cell_type": "markdown",
      "source": [
        "***Program 12.***"
      ],
      "metadata": {
        "id": "Nt1jmEKkJylk"
      }
    },
    {
      "cell_type": "code",
      "source": [
        "# Python Program to find position of n\\'th multiple\n",
        "# of a number k in Fibonacci Series\n",
        " \n",
        "def findPosition(k, n):\n",
        "    f1 = 0\n",
        "    f2 = 1\n",
        "    i =2;\n",
        "    while i!=0:\n",
        "        f3 = f1 + f2;\n",
        "        f1 = f2;\n",
        "        f2 = f3;\n",
        " \n",
        "        if f2%k == 0:\n",
        "            return n*i\n",
        " \n",
        "        i+=1\n",
        "         \n",
        "    return\n",
        " \n",
        "# Multiple no.\n",
        "n = int(input(\"enter number:\"));\n",
        "# Number of whose multiple we are finding\n",
        "k =int(input(\"enter number:\"));\n",
        " \n",
        "print(\"Position of n\\'th multiple of k in\"\n",
        "                \"Fibonacci Series is\", findPosition(k,n));\n",
        " "
      ],
      "metadata": {
        "colab": {
          "base_uri": "https://localhost:8080/"
        },
        "id": "c3Km9nxcT_b9",
        "outputId": "bbdbb042-70eb-4f6c-a8ed-3ee991b33d7f"
      },
      "execution_count": 34,
      "outputs": [
        {
          "output_type": "stream",
          "name": "stdout",
          "text": [
            "enter number:2\n",
            "enter number:3\n",
            "Position of n'th multiple of k inFibonacci Series is 8\n"
          ]
        }
      ]
    },
    {
      "cell_type": "markdown",
      "source": [
        "***Program 13.***"
      ],
      "metadata": {
        "id": "S_XO-tPwEUoR"
      }
    },
    {
      "cell_type": "code",
      "source": [
        "ch=(input(\"Enter a character :\"))\n",
        "# inbuilt function.\n",
        "print(ord(ch))"
      ],
      "metadata": {
        "colab": {
          "base_uri": "https://localhost:8080/"
        },
        "id": "eWe5LuqtEbnB",
        "outputId": "603c3602-2fec-41a1-994b-e49662e935ca"
      },
      "execution_count": 33,
      "outputs": [
        {
          "output_type": "stream",
          "name": "stdout",
          "text": [
            "Enter a character :A\n",
            "65\n"
          ]
        }
      ]
    },
    {
      "cell_type": "markdown",
      "source": [
        "***Program 14.***"
      ],
      "metadata": {
        "id": "LUrdyaMcDMn2"
      }
    },
    {
      "cell_type": "code",
      "source": [
        "# sum of squares \n",
        "n=int(input(\"Enter number:\"))\n",
        "sum=0\n",
        "for i in range(1,n+1):\n",
        "  sum=sum+pow(i,2)\n",
        "print(sum)"
      ],
      "metadata": {
        "colab": {
          "base_uri": "https://localhost:8080/"
        },
        "id": "0vAAX1TADVua",
        "outputId": "f4fc66bf-14c0-49c3-fcf4-d01a6019605b"
      },
      "execution_count": null,
      "outputs": [
        {
          "output_type": "stream",
          "name": "stdout",
          "text": [
            "Enter number:2\n",
            "5\n"
          ]
        }
      ]
    },
    {
      "cell_type": "markdown",
      "source": [
        "***Program 15.***"
      ],
      "metadata": {
        "id": "NqWwlILwEEqt"
      }
    },
    {
      "cell_type": "code",
      "source": [
        "# sum of cubes.\n",
        "n=int(input(\"Enter number:\"))\n",
        "sum=0\n",
        "for i in range(1,n+1):\n",
        "  sum=sum+pow(i,3)\n",
        "print(sum)"
      ],
      "metadata": {
        "colab": {
          "base_uri": "https://localhost:8080/"
        },
        "id": "_pQ8-mtPEJe_",
        "outputId": "7a9b5464-e4d1-4f80-b598-d4f3d2e10f78"
      },
      "execution_count": null,
      "outputs": [
        {
          "output_type": "stream",
          "name": "stdout",
          "text": [
            "Enter number:2\n",
            "9\n"
          ]
        }
      ]
    }
  ]
}